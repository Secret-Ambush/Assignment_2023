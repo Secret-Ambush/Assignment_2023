{
  "nbformat": 4,
  "nbformat_minor": 0,
  "metadata": {
    "colab": {
      "provenance": [],
      "authorship_tag": "ABX9TyPZYtc6QgUCAUXPB4VX3/rf"
    },
    "kernelspec": {
      "name": "python3",
      "display_name": "Python 3"
    },
    "language_info": {
      "name": "python"
    }
  },
  "cells": [
    {
      "cell_type": "markdown",
      "source": [
        "**ASSIGNMENT 1**"
      ],
      "metadata": {
        "id": "piVdQwJ1DtJP"
      }
    },
    {
      "cell_type": "code",
      "source": [
        "#LIST\n",
        "\n",
        "# creating a list \n",
        "colours = ['red', 'green', 'yellow', 'blue']\n",
        "\n",
        "# accessing elements\n",
        "print(colours[0])  \n",
        "print(colours[2])\n",
        "\n",
        "# adding elements to list\n",
        "colours.append('purple')\n",
        "print(colours)\n",
        "\n",
        "# insert the elements at specific position \n",
        "colours.insert(2, 'magenta')\n",
        "print(colours)\n",
        "\n",
        "# removing the elements from list\n",
        "colours.remove('yellow')\n",
        "print(colours)\n",
        "\n",
        "# list sclicing\n",
        "print(colours[1:3]) \n",
        "print(colours[:2])  \n",
        "print(colours[2:])\n",
        "\n",
        "#TUPLE\n",
        "\n",
        "# creating the tuple\n",
        "food = ('biryani', 'chocolate', 'tacos', 'wok')\n",
        "\n",
        "# accessing the elements in tuple\n",
        "print(food[0])\n",
        "print(food[2])\n",
        "\n",
        "# sclicing tuples\n",
        "print(food[1:3]) \n",
        "print(food[:2])  \n",
        "print(food[2:])\n",
        "\n",
        "# coverting tuple to list\n",
        "my_foodlist = list(food)\n",
        "print(my_foodlist)\n",
        "\n",
        "# length of the tuple\n",
        "print(len(food))\n",
        "\n",
        "#SET\n",
        "\n",
        "# creating a set\n",
        "numbers = {1, 2, 3, 4, 5}\n",
        "\n",
        "# adding elements to the set\n",
        "numbers.add(6)\n",
        "print(numbers) \n",
        "# adding mutiple values at a time \n",
        "numbers.update([7, 8, 9])\n",
        "print(numbers)\n",
        "\n",
        "# removing elements\n",
        "numbers.remove(5)\n",
        "print(numbers)\n",
        "\n",
        "# popping a random element\n",
        "print(numbers.pop())\n",
        "print(numbers)\n",
        "\n",
        "# converting the list to set\n",
        "my_list_of_numbers = [1, 2, 3, 3, 4, 4, 5]\n",
        "number_Set = set(my_list_of_numbers)\n",
        "print(number_Set)\n",
        "\n",
        "#DICTIONARY\n",
        "\n",
        "# creating the dictionary\n",
        "my_dict = {'Brand': 'Toyota', 'Style': \"Prado\", 'Model Year': 2015}\n",
        "\n",
        "# accessing the elements with keys\n",
        "print(my_dict['Brand']) \n",
        "print(my_dict['Style'])\n",
        "\n",
        "# modifying the values\n",
        "my_dict['Model Year'] = 2016\n",
        "print(my_dict)\n",
        "\n",
        "# adding the new elements to dictionary\n",
        "my_dict['Style'] = 'Yaris'\n",
        "print(my_dict)\n",
        "\n",
        "# removing the elements\n",
        "print(my_dict.pop('Style'))\n",
        "print(my_dict)\n",
        "\n",
        "# coverting the lists to dictionary\n",
        "keys = ['Brand', 'Style', 'Model Year']\n",
        "values = ['Audi', 'Q series', 2020]\n",
        "my_dict = dict(zip(keys, values))\n",
        "print(my_dict)"
      ],
      "metadata": {
        "colab": {
          "base_uri": "https://localhost:8080/"
        },
        "id": "XzTy0v-4DyGH",
        "outputId": "1634143b-b5a3-4df3-90a7-f3ea42686c27"
      },
      "execution_count": null,
      "outputs": [
        {
          "output_type": "stream",
          "name": "stdout",
          "text": [
            "red\n",
            "yellow\n",
            "['red', 'green', 'yellow', 'blue', 'purple']\n",
            "['red', 'green', 'magenta', 'yellow', 'blue', 'purple']\n",
            "['red', 'green', 'magenta', 'blue', 'purple']\n",
            "['green', 'magenta']\n",
            "['red', 'green']\n",
            "['magenta', 'blue', 'purple']\n",
            "biryani\n",
            "tacos\n",
            "('chocolate', 'tacos')\n",
            "('biryani', 'chocolate')\n",
            "('tacos', 'wok')\n",
            "['biryani', 'chocolate', 'tacos', 'wok']\n",
            "4\n",
            "{1, 2, 3, 4, 5, 6}\n",
            "{1, 2, 3, 4, 5, 6, 7, 8, 9}\n",
            "{1, 2, 3, 4, 6, 7, 8, 9}\n",
            "1\n",
            "{2, 3, 4, 6, 7, 8, 9}\n",
            "{1, 2, 3, 4, 5}\n",
            "Toyota\n",
            "Prado\n",
            "{'Brand': 'Toyota', 'Style': 'Prado', 'Model Year': 2016}\n",
            "{'Brand': 'Toyota', 'Style': 'Yaris', 'Model Year': 2016}\n",
            "Yaris\n",
            "{'Brand': 'Toyota', 'Model Year': 2016}\n",
            "{'Brand': 'Audi', 'Style': 'Q series', 'Model Year': 2020}\n"
          ]
        }
      ]
    },
    {
      "cell_type": "markdown",
      "source": [
        "**ASSIGNMENT 2**"
      ],
      "metadata": {
        "id": "9Ng7TUPWDejo"
      }
    },
    {
      "cell_type": "code",
      "source": [
        "with open('a.txt', 'w') as file:\n",
        "    file.write(\"Hello there !\\nI am Riddhi Goswami.\")\n",
        "    file.close()\n",
        "\n",
        "#  Read a file and printing the data \n",
        "with open('a.txt', 'r') as file:\n",
        "    content = file.read()\n",
        "    print(content)\n",
        "\n",
        "# appending a new line to existing file \"a.txt\"\n",
        "with open('a.txt', 'a') as file:\n",
        "    file.write('\\nAdding a new line')\n",
        "with open('a.txt', 'r') as file:\n",
        "    content = file.read()\n",
        "    print(content)"
      ],
      "metadata": {
        "colab": {
          "base_uri": "https://localhost:8080/"
        },
        "id": "_qaA9fxnA3az",
        "outputId": "e6cad72b-12dd-41d5-8825-06fae25665c6"
      },
      "execution_count": null,
      "outputs": [
        {
          "output_type": "stream",
          "name": "stdout",
          "text": [
            "Hello there !\n",
            "I am Riddhi Goswami.\n",
            "Hello there !\n",
            "I am Riddhi Goswami.\n",
            "Adding a new line\n"
          ]
        }
      ]
    },
    {
      "cell_type": "markdown",
      "source": [
        "**ASSIGNMENT 3**"
      ],
      "metadata": {
        "id": "NrRZne0LDibt"
      }
    },
    {
      "cell_type": "code",
      "source": [
        "with open('calculator_output.txt', 'w') as file:\n",
        "\n",
        "    num1 = float(input('Enter the first number: '))\n",
        "    num2 = float(input('Enter the second number: '))\n",
        "    op = input('Enter the operation (+, -, *, / , //): ')\n",
        "\n",
        "\n",
        "    if op == '+':\n",
        "        result = num1 + num2\n",
        "    elif op == '-':\n",
        "        result = num1 - num2\n",
        "    elif op == '*':\n",
        "        result = num1 * num2\n",
        "    elif op == '/':\n",
        "        result = num1 / num2\n",
        "    elif op == '//':\n",
        "        result = num1 // num2\n",
        "    else:\n",
        "        print('Invalid operator')\n",
        "        result = None\n",
        "\n",
        "    if result is not None:\n",
        "        file.write(f\"{num1} {op} {num2} = {result}\")\n",
        "        print(f\"{num1} {op} {num2} = {result}\")"
      ],
      "metadata": {
        "colab": {
          "base_uri": "https://localhost:8080/"
        },
        "id": "b1kZY_U4DJ-r",
        "outputId": "76e34e02-daa7-4448-d4ef-84b496d13c36"
      },
      "execution_count": null,
      "outputs": [
        {
          "output_type": "stream",
          "name": "stdout",
          "text": [
            "Enter the first number: 10\n",
            "Enter the second number: 20\n",
            "Enter the operation (+, -, *, / , //): -\n",
            "10.0 - 20.0 = -10.0\n"
          ]
        }
      ]
    }
  ]
}